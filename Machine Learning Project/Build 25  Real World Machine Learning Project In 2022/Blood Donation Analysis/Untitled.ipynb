{
 "cells": [
  {
   "cell_type": "code",
   "execution_count": 39,
   "id": "4a90d03d",
   "metadata": {},
   "outputs": [],
   "source": [
    "#importing library for reading, writing and perform basic operations\n",
    "import pandas as pd\n",
    "import numpy as np\n",
    "\n",
    "#Importing library for visualization\n",
    "import matplotlib.pyplot as plt\n",
    "import seaborn as sns\n",
    "%matplotlib inline\n",
    "\n",
    "#Importing library for splitting model into train and test and for data transformation\n",
    "from sklearn.model_selection import train_test_split\n",
    "\n",
    "from sklearn.metrics import confusion_matrix,accuracy_score,roc_auc_score"
   ]
  },
  {
   "cell_type": "code",
   "execution_count": 40,
   "id": "b2fe5d97",
   "metadata": {},
   "outputs": [],
   "source": [
    "import warnings\n",
    "warnings.simplefilter(\"ignore\")"
   ]
  },
  {
   "cell_type": "code",
   "execution_count": 41,
   "id": "ed01f606",
   "metadata": {},
   "outputs": [],
   "source": [
    "from sklearn.ensemble import RandomForestClassifier\n",
    "\n",
    "from sklearn.linear_model import LogisticRegression\n",
    "\n",
    "from sklearn.tree import DecisionTreeClassifier\n",
    "\n",
    "from sklearn.neural_network import MLPClassifier\n",
    "\n",
    "from sklearn.svm import SVC"
   ]
  },
  {
   "cell_type": "code",
   "execution_count": 42,
   "id": "cb94ef84",
   "metadata": {},
   "outputs": [],
   "source": [
    "train=pd.read_csv(\"blood-train.csv\")\n",
    "test=pd.read_csv(\"blood-test.csv\")"
   ]
  },
  {
   "cell_type": "code",
   "execution_count": 43,
   "id": "e5ed858d",
   "metadata": {
    "scrolled": true
   },
   "outputs": [
    {
     "data": {
      "text/plain": [
       "0    438\n",
       "1    138\n",
       "Name: Made Donation in March 2007, dtype: int64"
      ]
     },
     "execution_count": 43,
     "metadata": {},
     "output_type": "execute_result"
    }
   ],
   "source": [
    "train[\"Made Donation in March 2007\"].value_counts()"
   ]
  },
  {
   "cell_type": "code",
   "execution_count": 44,
   "id": "8481c290",
   "metadata": {},
   "outputs": [
    {
     "data": {
      "text/plain": [
       "0    1\n",
       "1    1\n",
       "2    1\n",
       "3    1\n",
       "4    0\n",
       "Name: Made Donation in March 2007, dtype: int64"
      ]
     },
     "execution_count": 44,
     "metadata": {},
     "output_type": "execute_result"
    }
   ],
   "source": [
    "y=train.iloc[:,-1]\n",
    "y.head()"
   ]
  },
  {
   "cell_type": "code",
   "execution_count": 45,
   "id": "c6e13e85",
   "metadata": {},
   "outputs": [],
   "source": [
    "old_train=train\n",
    "train=train.iloc[:,1:5]\n",
    "test=test.iloc[:,1:5]"
   ]
  },
  {
   "cell_type": "code",
   "execution_count": 46,
   "id": "0fcbaed4",
   "metadata": {},
   "outputs": [
    {
     "data": {
      "text/html": [
       "<div>\n",
       "<style scoped>\n",
       "    .dataframe tbody tr th:only-of-type {\n",
       "        vertical-align: middle;\n",
       "    }\n",
       "\n",
       "    .dataframe tbody tr th {\n",
       "        vertical-align: top;\n",
       "    }\n",
       "\n",
       "    .dataframe thead th {\n",
       "        text-align: right;\n",
       "    }\n",
       "</style>\n",
       "<table border=\"1\" class=\"dataframe\">\n",
       "  <thead>\n",
       "    <tr style=\"text-align: right;\">\n",
       "      <th></th>\n",
       "      <th>Months since Last Donation</th>\n",
       "      <th>Number of Donations</th>\n",
       "      <th>Total Volume Donated (c.c.)</th>\n",
       "      <th>Months since First Donation</th>\n",
       "    </tr>\n",
       "  </thead>\n",
       "  <tbody>\n",
       "    <tr>\n",
       "      <th>0</th>\n",
       "      <td>2</td>\n",
       "      <td>50</td>\n",
       "      <td>12500</td>\n",
       "      <td>98</td>\n",
       "    </tr>\n",
       "    <tr>\n",
       "      <th>1</th>\n",
       "      <td>0</td>\n",
       "      <td>13</td>\n",
       "      <td>3250</td>\n",
       "      <td>28</td>\n",
       "    </tr>\n",
       "    <tr>\n",
       "      <th>2</th>\n",
       "      <td>1</td>\n",
       "      <td>16</td>\n",
       "      <td>4000</td>\n",
       "      <td>35</td>\n",
       "    </tr>\n",
       "    <tr>\n",
       "      <th>3</th>\n",
       "      <td>2</td>\n",
       "      <td>20</td>\n",
       "      <td>5000</td>\n",
       "      <td>45</td>\n",
       "    </tr>\n",
       "    <tr>\n",
       "      <th>4</th>\n",
       "      <td>1</td>\n",
       "      <td>24</td>\n",
       "      <td>6000</td>\n",
       "      <td>77</td>\n",
       "    </tr>\n",
       "  </tbody>\n",
       "</table>\n",
       "</div>"
      ],
      "text/plain": [
       "   Months since Last Donation  Number of Donations  \\\n",
       "0                           2                   50   \n",
       "1                           0                   13   \n",
       "2                           1                   16   \n",
       "3                           2                   20   \n",
       "4                           1                   24   \n",
       "\n",
       "   Total Volume Donated (c.c.)  Months since First Donation  \n",
       "0                        12500                           98  \n",
       "1                         3250                           28  \n",
       "2                         4000                           35  \n",
       "3                         5000                           45  \n",
       "4                         6000                           77  "
      ]
     },
     "execution_count": 46,
     "metadata": {},
     "output_type": "execute_result"
    }
   ],
   "source": [
    "train.head()"
   ]
  },
  {
   "cell_type": "code",
   "execution_count": 47,
   "id": "cd140193",
   "metadata": {},
   "outputs": [],
   "source": [
    "df=pd.merge(train,test)"
   ]
  },
  {
   "cell_type": "code",
   "execution_count": 48,
   "id": "64227c95",
   "metadata": {},
   "outputs": [
    {
     "data": {
      "text/html": [
       "<div>\n",
       "<style scoped>\n",
       "    .dataframe tbody tr th:only-of-type {\n",
       "        vertical-align: middle;\n",
       "    }\n",
       "\n",
       "    .dataframe tbody tr th {\n",
       "        vertical-align: top;\n",
       "    }\n",
       "\n",
       "    .dataframe thead th {\n",
       "        text-align: right;\n",
       "    }\n",
       "</style>\n",
       "<table border=\"1\" class=\"dataframe\">\n",
       "  <thead>\n",
       "    <tr style=\"text-align: right;\">\n",
       "      <th></th>\n",
       "      <th>Months since Last Donation</th>\n",
       "      <th>Number of Donations</th>\n",
       "      <th>Total Volume Donated (c.c.)</th>\n",
       "      <th>Months since First Donation</th>\n",
       "    </tr>\n",
       "  </thead>\n",
       "  <tbody>\n",
       "    <tr>\n",
       "      <th>0</th>\n",
       "      <td>2</td>\n",
       "      <td>2</td>\n",
       "      <td>500</td>\n",
       "      <td>4</td>\n",
       "    </tr>\n",
       "    <tr>\n",
       "      <th>1</th>\n",
       "      <td>2</td>\n",
       "      <td>2</td>\n",
       "      <td>500</td>\n",
       "      <td>4</td>\n",
       "    </tr>\n",
       "    <tr>\n",
       "      <th>2</th>\n",
       "      <td>2</td>\n",
       "      <td>2</td>\n",
       "      <td>500</td>\n",
       "      <td>4</td>\n",
       "    </tr>\n",
       "    <tr>\n",
       "      <th>3</th>\n",
       "      <td>2</td>\n",
       "      <td>2</td>\n",
       "      <td>500</td>\n",
       "      <td>4</td>\n",
       "    </tr>\n",
       "    <tr>\n",
       "      <th>4</th>\n",
       "      <td>2</td>\n",
       "      <td>2</td>\n",
       "      <td>500</td>\n",
       "      <td>4</td>\n",
       "    </tr>\n",
       "  </tbody>\n",
       "</table>\n",
       "</div>"
      ],
      "text/plain": [
       "   Months since Last Donation  Number of Donations  \\\n",
       "0                           2                    2   \n",
       "1                           2                    2   \n",
       "2                           2                    2   \n",
       "3                           2                    2   \n",
       "4                           2                    2   \n",
       "\n",
       "   Total Volume Donated (c.c.)  Months since First Donation  \n",
       "0                          500                            4  \n",
       "1                          500                            4  \n",
       "2                          500                            4  \n",
       "3                          500                            4  \n",
       "4                          500                            4  "
      ]
     },
     "execution_count": 48,
     "metadata": {},
     "output_type": "execute_result"
    }
   ],
   "source": [
    "x=df.iloc[:,:]\n",
    "x.head()"
   ]
  },
  {
   "cell_type": "code",
   "execution_count": 49,
   "id": "3f756a01",
   "metadata": {},
   "outputs": [
    {
     "data": {
      "text/html": [
       "<div>\n",
       "<style scoped>\n",
       "    .dataframe tbody tr th:only-of-type {\n",
       "        vertical-align: middle;\n",
       "    }\n",
       "\n",
       "    .dataframe tbody tr th {\n",
       "        vertical-align: top;\n",
       "    }\n",
       "\n",
       "    .dataframe thead th {\n",
       "        text-align: right;\n",
       "    }\n",
       "</style>\n",
       "<table border=\"1\" class=\"dataframe\">\n",
       "  <thead>\n",
       "    <tr style=\"text-align: right;\">\n",
       "      <th></th>\n",
       "      <th>Months since Last Donation</th>\n",
       "      <th>Number of Donations</th>\n",
       "      <th>Total Volume Donated (c.c.)</th>\n",
       "      <th>Months since First Donation</th>\n",
       "    </tr>\n",
       "  </thead>\n",
       "  <tbody>\n",
       "    <tr>\n",
       "      <th>count</th>\n",
       "      <td>576.000000</td>\n",
       "      <td>576.000000</td>\n",
       "      <td>576.000000</td>\n",
       "      <td>576.000000</td>\n",
       "    </tr>\n",
       "    <tr>\n",
       "      <th>mean</th>\n",
       "      <td>9.439236</td>\n",
       "      <td>5.427083</td>\n",
       "      <td>1356.770833</td>\n",
       "      <td>34.050347</td>\n",
       "    </tr>\n",
       "    <tr>\n",
       "      <th>std</th>\n",
       "      <td>8.175454</td>\n",
       "      <td>5.740010</td>\n",
       "      <td>1435.002556</td>\n",
       "      <td>24.227672</td>\n",
       "    </tr>\n",
       "    <tr>\n",
       "      <th>min</th>\n",
       "      <td>0.000000</td>\n",
       "      <td>1.000000</td>\n",
       "      <td>250.000000</td>\n",
       "      <td>2.000000</td>\n",
       "    </tr>\n",
       "    <tr>\n",
       "      <th>25%</th>\n",
       "      <td>2.000000</td>\n",
       "      <td>2.000000</td>\n",
       "      <td>500.000000</td>\n",
       "      <td>16.000000</td>\n",
       "    </tr>\n",
       "    <tr>\n",
       "      <th>50%</th>\n",
       "      <td>7.000000</td>\n",
       "      <td>4.000000</td>\n",
       "      <td>1000.000000</td>\n",
       "      <td>28.000000</td>\n",
       "    </tr>\n",
       "    <tr>\n",
       "      <th>75%</th>\n",
       "      <td>14.000000</td>\n",
       "      <td>7.000000</td>\n",
       "      <td>1750.000000</td>\n",
       "      <td>49.250000</td>\n",
       "    </tr>\n",
       "    <tr>\n",
       "      <th>max</th>\n",
       "      <td>74.000000</td>\n",
       "      <td>50.000000</td>\n",
       "      <td>12500.000000</td>\n",
       "      <td>98.000000</td>\n",
       "    </tr>\n",
       "  </tbody>\n",
       "</table>\n",
       "</div>"
      ],
      "text/plain": [
       "       Months since Last Donation  Number of Donations  \\\n",
       "count                  576.000000           576.000000   \n",
       "mean                     9.439236             5.427083   \n",
       "std                      8.175454             5.740010   \n",
       "min                      0.000000             1.000000   \n",
       "25%                      2.000000             2.000000   \n",
       "50%                      7.000000             4.000000   \n",
       "75%                     14.000000             7.000000   \n",
       "max                     74.000000            50.000000   \n",
       "\n",
       "       Total Volume Donated (c.c.)  Months since First Donation  \n",
       "count                   576.000000                   576.000000  \n",
       "mean                   1356.770833                    34.050347  \n",
       "std                    1435.002556                    24.227672  \n",
       "min                     250.000000                     2.000000  \n",
       "25%                     500.000000                    16.000000  \n",
       "50%                    1000.000000                    28.000000  \n",
       "75%                    1750.000000                    49.250000  \n",
       "max                   12500.000000                    98.000000  "
      ]
     },
     "execution_count": 49,
     "metadata": {},
     "output_type": "execute_result"
    }
   ],
   "source": [
    "train.describe()"
   ]
  },
  {
   "cell_type": "code",
   "execution_count": 50,
   "id": "9dd8250c",
   "metadata": {},
   "outputs": [
    {
     "data": {
      "text/plain": [
       "<AxesSubplot:ylabel='Months since Last Donation'>"
      ]
     },
     "execution_count": 50,
     "metadata": {},
     "output_type": "execute_result"
    },
    {
     "data": {
      "image/png": "[encoded data removed]",
      "text/plain": [
       "<Figure size 720x720 with 1 Axes>"
      ]
     },
     "metadata": {
      "needs_background": "light"
     },
     "output_type": "display_data"
    }
   ],
   "source": [
    "plt.figure(figsize=(10,10))\n",
    "sns.boxplot(y=\"Months since Last Donation\",data=old_train)"
   ]
  },
  {
   "cell_type": "code",
   "execution_count": 51,
   "id": "3e3b3099",
   "metadata": {},
   "outputs": [
    {
     "data": {
      "text/plain": [
       "<AxesSubplot:>"
      ]
     },
     "execution_count": 51,
     "metadata": {},
     "output_type": "execute_result"
    },
    {
     "data": {
      "image/png": "[encoded data removed]",
      "text/plain": [
       "<Figure size 432x288 with 2 Axes>"
      ]
     },
     "metadata": {
      "needs_background": "light"
     },
     "output_type": "display_data"
    }
   ],
   "source": [
    "corr=x.corr()\n",
    "sns.heatmap(corr,annot=True)"
   ]
  },
  {
   "cell_type": "code",
   "execution_count": 52,
   "id": "68dbf637",
   "metadata": {},
   "outputs": [
    {
     "data": {
      "text/plain": [
       "array([ 2,  0,  1,  4,  5,  3, 12,  6, 11,  9, 10, 13, 14,  8,  7, 16, 23,\n",
       "       21, 18, 22, 26, 35, 74, 15, 20, 17, 25, 39, 72], dtype=int64)"
      ]
     },
     "execution_count": 52,
     "metadata": {},
     "output_type": "execute_result"
    }
   ],
   "source": [
    "train[\"Months since Last Donation\"].unique()"
   ]
  },
  {
   "cell_type": "code",
   "execution_count": 53,
   "id": "1bc931aa",
   "metadata": {},
   "outputs": [
    {
     "data": {
      "image/png": "[encoded data removed]",
      "text/plain": [
       "<Figure size 432x216 with 2 Axes>"
      ]
     },
     "metadata": {
      "needs_background": "light"
     },
     "output_type": "display_data"
    }
   ],
   "source": [
    "g = sns.FacetGrid(old_train, col='Made Donation in March 2007')\n",
    "g = g.map(sns.distplot, \"Number of Donations\")"
   ]
  },
  {
   "cell_type": "code",
   "execution_count": 54,
   "id": "47b7c1dd",
   "metadata": {},
   "outputs": [
    {
     "data": {
      "image/png": "[encoded data removed]",
      "text/plain": [
       "<Figure size 432x216 with 2 Axes>"
      ]
     },
     "metadata": {
      "needs_background": "light"
     },
     "output_type": "display_data"
    }
   ],
   "source": [
    "#Exploring Months Since First Donation\n",
    "g = sns.FacetGrid(old_train, col='Made Donation in March 2007')\n",
    "g = g.map(sns.distplot, \"Months since First Donation\")"
   ]
  },
  {
   "cell_type": "code",
   "execution_count": 55,
   "id": "ea25f649",
   "metadata": {},
   "outputs": [
    {
     "data": {
      "image/png": "[encoded data removed]",
      "text/plain": [
       "<Figure size 432x216 with 2 Axes>"
      ]
     },
     "metadata": {
      "needs_background": "light"
     },
     "output_type": "display_data"
    }
   ],
   "source": [
    "#Exploring Total Volume Donated\n",
    "g = sns.FacetGrid(old_train, col='Made Donation in March 2007')\n",
    "g = g.map(sns.distplot, \"Total Volume Donated (c.c.)\")"
   ]
  },
  {
   "cell_type": "code",
   "execution_count": 56,
   "id": "1cbe5fb1",
   "metadata": {},
   "outputs": [],
   "source": [
    "x[\"Donating for\"] = (x[\"Months since First Donation\"] - x[\"Months since Last Donation\"])"
   ]
  },
  {
   "cell_type": "code",
   "execution_count": 57,
   "id": "05f414ad",
   "metadata": {},
   "outputs": [
    {
     "data": {
      "text/html": [
       "<div>\n",
       "<style scoped>\n",
       "    .dataframe tbody tr th:only-of-type {\n",
       "        vertical-align: middle;\n",
       "    }\n",
       "\n",
       "    .dataframe tbody tr th {\n",
       "        vertical-align: top;\n",
       "    }\n",
       "\n",
       "    .dataframe thead th {\n",
       "        text-align: right;\n",
       "    }\n",
       "</style>\n",
       "<table border=\"1\" class=\"dataframe\">\n",
       "  <thead>\n",
       "    <tr style=\"text-align: right;\">\n",
       "      <th></th>\n",
       "      <th>Months since Last Donation</th>\n",
       "      <th>Number of Donations</th>\n",
       "      <th>Total Volume Donated (c.c.)</th>\n",
       "      <th>Months since First Donation</th>\n",
       "      <th>Donating for</th>\n",
       "    </tr>\n",
       "  </thead>\n",
       "  <tbody>\n",
       "    <tr>\n",
       "      <th>0</th>\n",
       "      <td>2</td>\n",
       "      <td>2</td>\n",
       "      <td>500</td>\n",
       "      <td>4</td>\n",
       "      <td>2</td>\n",
       "    </tr>\n",
       "    <tr>\n",
       "      <th>1</th>\n",
       "      <td>2</td>\n",
       "      <td>2</td>\n",
       "      <td>500</td>\n",
       "      <td>4</td>\n",
       "      <td>2</td>\n",
       "    </tr>\n",
       "    <tr>\n",
       "      <th>2</th>\n",
       "      <td>2</td>\n",
       "      <td>2</td>\n",
       "      <td>500</td>\n",
       "      <td>4</td>\n",
       "      <td>2</td>\n",
       "    </tr>\n",
       "    <tr>\n",
       "      <th>3</th>\n",
       "      <td>2</td>\n",
       "      <td>2</td>\n",
       "      <td>500</td>\n",
       "      <td>4</td>\n",
       "      <td>2</td>\n",
       "    </tr>\n",
       "    <tr>\n",
       "      <th>4</th>\n",
       "      <td>2</td>\n",
       "      <td>2</td>\n",
       "      <td>500</td>\n",
       "      <td>4</td>\n",
       "      <td>2</td>\n",
       "    </tr>\n",
       "  </tbody>\n",
       "</table>\n",
       "</div>"
      ],
      "text/plain": [
       "   Months since Last Donation  Number of Donations  \\\n",
       "0                           2                    2   \n",
       "1                           2                    2   \n",
       "2                           2                    2   \n",
       "3                           2                    2   \n",
       "4                           2                    2   \n",
       "\n",
       "   Total Volume Donated (c.c.)  Months since First Donation  Donating for  \n",
       "0                          500                            4             2  \n",
       "1                          500                            4             2  \n",
       "2                          500                            4             2  \n",
       "3                          500                            4             2  \n",
       "4                          500                            4             2  "
      ]
     },
     "execution_count": 57,
     "metadata": {},
     "output_type": "execute_result"
    }
   ],
   "source": [
    "x.head()"
   ]
  },
  {
   "cell_type": "code",
   "execution_count": 58,
   "id": "00e94770",
   "metadata": {},
   "outputs": [
    {
     "data": {
      "text/plain": [
       "<AxesSubplot:>"
      ]
     },
     "execution_count": 58,
     "metadata": {},
     "output_type": "execute_result"
    },
    {
     "data": {
      "image/png": "[encoded data removed]",
      "text/plain": [
       "<Figure size 432x288 with 2 Axes>"
      ]
     },
     "metadata": {
      "needs_background": "light"
     },
     "output_type": "display_data"
    }
   ],
   "source": [
    "corr=x.corr()\n",
    "sns.heatmap(corr,annot=True)"
   ]
  },
  {
   "cell_type": "code",
   "execution_count": 59,
   "id": "9f21a16f",
   "metadata": {},
   "outputs": [],
   "source": [
    "#Dropping the unnecessary column\n",
    "x.drop([ 'Total Volume Donated (c.c.)'], axis=1, inplace=True)"
   ]
  },
  {
   "cell_type": "code",
   "execution_count": 60,
   "id": "0ffcfb64",
   "metadata": {},
   "outputs": [
    {
     "data": {
      "text/html": [
       "<div>\n",
       "<style scoped>\n",
       "    .dataframe tbody tr th:only-of-type {\n",
       "        vertical-align: middle;\n",
       "    }\n",
       "\n",
       "    .dataframe tbody tr th {\n",
       "        vertical-align: top;\n",
       "    }\n",
       "\n",
       "    .dataframe thead th {\n",
       "        text-align: right;\n",
       "    }\n",
       "</style>\n",
       "<table border=\"1\" class=\"dataframe\">\n",
       "  <thead>\n",
       "    <tr style=\"text-align: right;\">\n",
       "      <th></th>\n",
       "      <th>Months since Last Donation</th>\n",
       "      <th>Number of Donations</th>\n",
       "      <th>Months since First Donation</th>\n",
       "      <th>Donating for</th>\n",
       "    </tr>\n",
       "  </thead>\n",
       "  <tbody>\n",
       "    <tr>\n",
       "      <th>0</th>\n",
       "      <td>2</td>\n",
       "      <td>2</td>\n",
       "      <td>4</td>\n",
       "      <td>2</td>\n",
       "    </tr>\n",
       "    <tr>\n",
       "      <th>1</th>\n",
       "      <td>2</td>\n",
       "      <td>2</td>\n",
       "      <td>4</td>\n",
       "      <td>2</td>\n",
       "    </tr>\n",
       "    <tr>\n",
       "      <th>2</th>\n",
       "      <td>2</td>\n",
       "      <td>2</td>\n",
       "      <td>4</td>\n",
       "      <td>2</td>\n",
       "    </tr>\n",
       "    <tr>\n",
       "      <th>3</th>\n",
       "      <td>2</td>\n",
       "      <td>2</td>\n",
       "      <td>4</td>\n",
       "      <td>2</td>\n",
       "    </tr>\n",
       "    <tr>\n",
       "      <th>4</th>\n",
       "      <td>2</td>\n",
       "      <td>2</td>\n",
       "      <td>4</td>\n",
       "      <td>2</td>\n",
       "    </tr>\n",
       "  </tbody>\n",
       "</table>\n",
       "</div>"
      ],
      "text/plain": [
       "   Months since Last Donation  Number of Donations  \\\n",
       "0                           2                    2   \n",
       "1                           2                    2   \n",
       "2                           2                    2   \n",
       "3                           2                    2   \n",
       "4                           2                    2   \n",
       "\n",
       "   Months since First Donation  Donating for  \n",
       "0                            4             2  \n",
       "1                            4             2  \n",
       "2                            4             2  \n",
       "3                            4             2  \n",
       "4                            4             2  "
      ]
     },
     "execution_count": 60,
     "metadata": {},
     "output_type": "execute_result"
    }
   ],
   "source": [
    "x.head()"
   ]
  },
  {
   "cell_type": "code",
   "execution_count": 61,
   "id": "df31d72d",
   "metadata": {},
   "outputs": [],
   "source": [
    "from sklearn.preprocessing import StandardScaler\n",
    "scale=StandardScaler()\n",
    "x=scale.fit_transform(x)"
   ]
  },
  {
   "cell_type": "code",
   "execution_count": 62,
   "id": "b251d771",
   "metadata": {},
   "outputs": [],
   "source": [
    "train=x[:576]"
   ]
  },
  {
   "cell_type": "code",
   "execution_count": 63,
   "id": "6720f8ef",
   "metadata": {},
   "outputs": [
    {
     "data": {
      "text/plain": [
       "array([[-0.81293718,  1.30733072, -0.50685502,  0.23079376],\n",
       "       [-0.81293718,  1.30733072, -0.50685502,  0.23079376],\n",
       "       [-0.81293718,  1.30733072, -0.50685502,  0.23079376],\n",
       "       ...,\n",
       "       [ 1.1242409 ,  1.30733072,  0.78378492, -0.18556024],\n",
       "       [ 1.1242409 ,  1.30733072,  0.78378492, -0.18556024],\n",
       "       [ 1.1242409 ,  1.30733072,  0.78378492, -0.18556024]])"
      ]
     },
     "execution_count": 63,
     "metadata": {},
     "output_type": "execute_result"
    }
   ],
   "source": [
    "train"
   ]
  },
  {
   "cell_type": "code",
   "execution_count": 64,
   "id": "9b744efd",
   "metadata": {},
   "outputs": [],
   "source": [
    "test=x[576:]"
   ]
  },
  {
   "cell_type": "code",
   "execution_count": 65,
   "id": "333b8dc5",
   "metadata": {},
   "outputs": [
    {
     "data": {
      "text/plain": [
       "array([[ 1.1242409 ,  1.30733072,  0.78378492, -0.18556024],\n",
       "       [ 1.1242409 ,  1.30733072,  0.78378492, -0.18556024],\n",
       "       [ 1.1242409 ,  1.30733072,  0.78378492, -0.18556024],\n",
       "       [ 1.1242409 ,  1.30733072,  0.78378492, -0.18556024],\n",
       "       [ 1.1242409 ,  1.30733072,  0.78378492, -0.18556024],\n",
       "       [ 1.1242409 ,  1.30733072,  0.78378492, -0.18556024],\n",
       "       [ 1.1242409 ,  1.30733072,  0.78378492, -0.18556024],\n",
       "       [ 1.1242409 ,  1.30733072,  0.78378492, -0.18556024],\n",
       "       [ 1.1242409 ,  1.30733072,  0.78378492, -0.18556024],\n",
       "       [ 1.1242409 ,  1.30733072,  0.78378492, -0.18556024],\n",
       "       [ 1.44710391,  7.667318  ,  3.49412879,  3.76980282],\n",
       "       [ 0.63994638, -0.2826661 ,  0.39659294, -0.18556024],\n",
       "       [ 0.63994638, -0.2826661 ,  0.39659294, -0.18556024],\n",
       "       [ 0.63994638, -0.2826661 ,  0.39659294, -0.18556024],\n",
       "       [ 0.63994638, -0.2826661 ,  0.39659294, -0.18556024],\n",
       "       [ 0.63994638, -0.2826661 ,  0.39659294, -0.18556024],\n",
       "       [ 0.63994638, -0.2826661 ,  0.39659294, -0.18556024],\n",
       "       [ 0.63994638, -0.2826661 ,  0.39659294, -0.18556024],\n",
       "       [ 0.63994638, -0.2826661 ,  0.39659294, -0.18556024],\n",
       "       [ 0.63994638, -0.2826661 ,  0.39659294, -0.18556024],\n",
       "       [ 0.63994638, -0.2826661 ,  0.39659294, -0.18556024],\n",
       "       [ 0.63994638, -0.2826661 ,  0.39659294, -0.18556024],\n",
       "       [ 0.63994638, -0.2826661 ,  0.39659294, -0.18556024],\n",
       "       [ 0.63994638, -0.2826661 ,  0.39659294, -0.18556024],\n",
       "       [ 0.63994638, -0.2826661 ,  0.39659294, -0.18556024],\n",
       "       [ 0.63994638, -0.2826661 ,  0.39659294, -0.18556024],\n",
       "       [ 0.63994638, -0.2826661 ,  0.39659294, -0.18556024],\n",
       "       [ 0.63994638, -0.2826661 ,  0.39659294, -0.18556024],\n",
       "       [ 0.63994638, -0.2826661 ,  0.39659294, -0.18556024],\n",
       "       [ 0.63994638, -0.2826661 ,  0.39659294, -0.18556024],\n",
       "       [ 0.63994638, -0.2826661 ,  0.39659294, -0.18556024],\n",
       "       [ 0.63994638, -0.2826661 ,  0.39659294, -0.18556024],\n",
       "       [ 0.63994638, -0.2826661 ,  0.39659294, -0.18556024],\n",
       "       [ 0.63994638, -0.2826661 ,  0.39659294, -0.18556024],\n",
       "       [ 0.63994638, -0.2826661 ,  0.39659294, -0.18556024],\n",
       "       [ 0.63994638, -0.2826661 ,  0.39659294, -0.18556024],\n",
       "       [ 0.63994638, -0.2826661 ,  0.39659294, -0.18556024],\n",
       "       [ 0.63994638, -0.2826661 ,  0.39659294, -0.18556024],\n",
       "       [ 0.63994638, -0.2826661 ,  0.39659294, -0.18556024],\n",
       "       [ 0.63994638, -0.2826661 ,  0.39659294, -0.18556024],\n",
       "       [ 0.63994638, -0.2826661 ,  0.39659294, -0.18556024],\n",
       "       [ 0.63994638, -0.2826661 ,  0.39659294, -0.18556024],\n",
       "       [ 0.63994638, -0.2826661 ,  0.39659294, -0.18556024],\n",
       "       [ 0.63994638, -0.2826661 ,  0.39659294, -0.18556024],\n",
       "       [ 0.63994638, -0.2826661 ,  0.39659294, -0.18556024],\n",
       "       [ 0.63994638, -0.2826661 ,  0.39659294, -0.18556024],\n",
       "       [ 0.63994638, -0.2826661 ,  0.39659294, -0.18556024],\n",
       "       [ 0.63994638, -0.2826661 ,  0.39659294, -0.18556024],\n",
       "       [ 0.63994638, -0.2826661 ,  0.39659294, -0.18556024],\n",
       "       [ 0.63994638, -0.2826661 ,  0.39659294, -0.18556024],\n",
       "       [ 0.63994638, -0.2826661 ,  0.39659294, -0.18556024],\n",
       "       [ 0.63994638, -0.2826661 ,  0.39659294, -0.18556024],\n",
       "       [ 0.63994638, -0.2826661 ,  0.39659294, -0.18556024],\n",
       "       [ 0.63994638, -0.2826661 ,  0.39659294, -0.18556024],\n",
       "       [ 0.63994638, -0.2826661 ,  0.39659294, -0.18556024],\n",
       "       [ 0.63994638, -0.2826661 ,  0.39659294, -0.18556024],\n",
       "       [ 0.63994638, -0.2826661 ,  0.39659294, -0.18556024],\n",
       "       [ 0.63994638, -0.2826661 ,  0.39659294, -0.18556024],\n",
       "       [ 0.63994638, -0.2826661 ,  0.39659294, -0.18556024],\n",
       "       [ 0.63994638, -0.2826661 ,  0.39659294, -0.18556024],\n",
       "       [ 0.63994638, -0.2826661 ,  0.39659294, -0.18556024],\n",
       "       [ 0.63994638, -0.2826661 ,  0.39659294, -0.18556024],\n",
       "       [ 0.63994638, -0.2826661 ,  0.39659294, -0.18556024],\n",
       "       [ 0.63994638, -0.2826661 ,  0.39659294, -0.18556024],\n",
       "       [ 0.63994638, -0.2826661 ,  0.39659294, -0.18556024],\n",
       "       [ 1.1242409 , -0.2826661 ,  0.78378492, -0.18556024],\n",
       "       [ 1.1242409 , -0.2826661 ,  0.78378492, -0.18556024],\n",
       "       [ 1.1242409 , -0.2826661 ,  0.78378492, -0.18556024],\n",
       "       [ 1.1242409 , -0.2826661 ,  0.78378492, -0.18556024],\n",
       "       [ 1.1242409 , -0.2826661 ,  0.78378492, -0.18556024],\n",
       "       [ 1.1242409 , -0.2826661 ,  0.78378492, -0.18556024],\n",
       "       [ 1.1242409 , -0.2826661 ,  0.78378492, -0.18556024],\n",
       "       [ 1.1242409 , -0.2826661 ,  0.78378492, -0.18556024],\n",
       "       [ 1.1242409 , -0.2826661 ,  0.78378492, -0.18556024],\n",
       "       [ 1.1242409 , -0.2826661 ,  0.78378492, -0.18556024],\n",
       "       [ 1.1242409 , -0.2826661 ,  0.78378492, -0.18556024],\n",
       "       [ 1.1242409 , -0.2826661 ,  0.78378492, -0.18556024],\n",
       "       [ 1.1242409 , -0.2826661 ,  0.78378492, -0.18556024],\n",
       "       [ 1.1242409 , -0.2826661 ,  0.78378492, -0.18556024],\n",
       "       [ 1.1242409 , -0.2826661 ,  0.78378492, -0.18556024],\n",
       "       [ 1.1242409 , -0.2826661 ,  0.78378492, -0.18556024],\n",
       "       [ 1.1242409 , -0.2826661 ,  0.78378492, -0.18556024],\n",
       "       [ 1.1242409 , -0.2826661 ,  0.78378492, -0.18556024],\n",
       "       [ 1.1242409 , -0.2826661 ,  0.78378492, -0.18556024],\n",
       "       [ 1.1242409 , -0.2826661 ,  0.78378492, -0.18556024],\n",
       "       [ 1.1242409 , -0.2826661 ,  0.78378492, -0.18556024],\n",
       "       [ 1.1242409 , -0.2826661 ,  0.78378492, -0.18556024],\n",
       "       [ 1.1242409 , -0.2826661 ,  0.78378492, -0.18556024],\n",
       "       [ 1.1242409 , -0.2826661 ,  0.78378492, -0.18556024],\n",
       "       [ 1.1242409 , -0.2826661 ,  0.78378492, -0.18556024],\n",
       "       [ 1.1242409 , -0.2826661 ,  0.78378492, -0.18556024],\n",
       "       [ 1.1242409 , -0.2826661 ,  0.78378492, -0.18556024],\n",
       "       [ 1.1242409 , -0.2826661 ,  0.78378492, -0.18556024],\n",
       "       [ 1.1242409 , -0.2826661 ,  0.78378492, -0.18556024],\n",
       "       [ 1.1242409 , -0.2826661 ,  0.78378492, -0.18556024],\n",
       "       [ 1.1242409 , -0.2826661 ,  0.78378492, -0.18556024],\n",
       "       [ 1.1242409 , -0.2826661 ,  0.78378492, -0.18556024],\n",
       "       [ 1.1242409 , -0.2826661 ,  0.78378492, -0.18556024],\n",
       "       [ 1.1242409 , -0.2826661 ,  0.78378492, -0.18556024],\n",
       "       [ 1.1242409 , -0.2826661 ,  0.78378492, -0.18556024],\n",
       "       [ 1.1242409 , -0.2826661 ,  0.78378492, -0.18556024],\n",
       "       [ 1.1242409 , -0.2826661 ,  0.78378492, -0.18556024],\n",
       "       [ 1.1242409 , -0.2826661 ,  0.78378492, -0.18556024],\n",
       "       [ 1.1242409 , -0.2826661 ,  0.78378492, -0.18556024],\n",
       "       [ 1.1242409 , -0.2826661 ,  0.78378492, -0.18556024],\n",
       "       [ 1.1242409 , -0.2826661 ,  0.78378492, -0.18556024],\n",
       "       [ 1.1242409 , -0.2826661 ,  0.78378492, -0.18556024],\n",
       "       [ 1.1242409 , -0.2826661 ,  0.78378492, -0.18556024],\n",
       "       [ 1.1242409 , -0.2826661 ,  0.78378492, -0.18556024],\n",
       "       [ 1.1242409 , -0.2826661 ,  0.78378492, -0.18556024],\n",
       "       [ 1.1242409 , -0.2826661 ,  0.78378492, -0.18556024],\n",
       "       [ 1.1242409 , -0.2826661 ,  0.78378492, -0.18556024],\n",
       "       [ 1.1242409 , -0.2826661 ,  0.78378492, -0.18556024],\n",
       "       [ 1.1242409 , -0.2826661 ,  0.78378492, -0.18556024],\n",
       "       [ 1.1242409 , -0.2826661 ,  0.78378492, -0.18556024],\n",
       "       [ 1.1242409 , -0.2826661 ,  0.78378492, -0.18556024],\n",
       "       [ 1.1242409 , -0.2826661 ,  0.78378492, -0.18556024],\n",
       "       [ 1.1242409 , -0.2826661 ,  0.78378492, -0.18556024],\n",
       "       [ 1.1242409 , -0.2826661 ,  0.78378492, -0.18556024],\n",
       "       [ 1.1242409 , -0.2826661 ,  0.78378492, -0.18556024],\n",
       "       [ 1.1242409 , -0.2826661 ,  0.78378492, -0.18556024],\n",
       "       [ 1.1242409 , -0.2826661 ,  0.78378492, -0.18556024],\n",
       "       [ 1.1242409 , -0.2826661 ,  0.78378492, -0.18556024],\n",
       "       [ 1.1242409 , -0.2826661 ,  0.78378492, -0.18556024],\n",
       "       [ 1.1242409 , -0.2826661 ,  0.78378492, -0.18556024],\n",
       "       [ 1.44710391, -0.2826661 ,  1.04191291, -0.18556024],\n",
       "       [ 1.44710391, -0.2826661 ,  1.04191291, -0.18556024],\n",
       "       [ 1.44710391, -0.2826661 ,  1.04191291, -0.18556024],\n",
       "       [ 1.44710391, -0.2826661 ,  1.04191291, -0.18556024],\n",
       "       [ 1.44710391, -0.2826661 ,  1.04191291, -0.18556024],\n",
       "       [ 1.44710391, -0.2826661 ,  1.04191291, -0.18556024],\n",
       "       [ 1.44710391, -0.2826661 ,  1.04191291, -0.18556024],\n",
       "       [ 1.44710391, -0.2826661 ,  1.04191291, -0.18556024],\n",
       "       [ 1.44710391, -0.2826661 ,  1.04191291, -0.18556024],\n",
       "       [ 1.44710391, -0.2826661 ,  1.04191291, -0.18556024],\n",
       "       [ 1.44710391, -0.2826661 ,  1.04191291, -0.18556024],\n",
       "       [ 1.44710391, -0.2826661 ,  1.04191291, -0.18556024],\n",
       "       [ 1.44710391, -0.2826661 ,  1.04191291, -0.18556024],\n",
       "       [ 1.44710391, -0.2826661 ,  1.04191291, -0.18556024],\n",
       "       [ 1.44710391, -0.2826661 ,  1.04191291, -0.18556024],\n",
       "       [ 1.44710391, -0.2826661 ,  1.04191291, -0.18556024],\n",
       "       [ 1.44710391, -0.2826661 ,  1.04191291, -0.18556024],\n",
       "       [ 1.44710391, -0.2826661 ,  1.04191291, -0.18556024],\n",
       "       [ 1.44710391, -0.2826661 ,  1.04191291, -0.18556024],\n",
       "       [ 1.44710391, -0.2826661 ,  1.04191291, -0.18556024],\n",
       "       [ 1.44710391, -0.2826661 ,  1.04191291, -0.18556024],\n",
       "       [ 1.44710391, -0.2826661 ,  1.04191291, -0.18556024],\n",
       "       [ 1.44710391, -0.2826661 ,  1.04191291, -0.18556024],\n",
       "       [ 1.44710391, -0.2826661 ,  1.04191291, -0.18556024],\n",
       "       [ 1.44710391, -0.2826661 ,  1.04191291, -0.18556024],\n",
       "       [ 1.44710391, -0.2826661 ,  1.04191291, -0.18556024],\n",
       "       [ 1.44710391, -0.2826661 ,  1.04191291, -0.18556024],\n",
       "       [ 1.44710391, -0.2826661 ,  1.04191291, -0.18556024],\n",
       "       [ 1.44710391, -0.2826661 ,  1.04191291, -0.18556024],\n",
       "       [ 1.44710391, -0.2826661 ,  1.04191291, -0.18556024],\n",
       "       [ 1.44710391, -0.2826661 ,  1.04191291, -0.18556024],\n",
       "       [ 1.44710391, -0.2826661 ,  1.04191291, -0.18556024],\n",
       "       [ 1.44710391, -0.2826661 ,  1.04191291, -0.18556024],\n",
       "       [ 1.44710391, -0.2826661 ,  1.04191291, -0.18556024],\n",
       "       [ 1.44710391, -0.2826661 ,  1.04191291, -0.18556024],\n",
       "       [ 1.44710391, -0.2826661 ,  1.04191291, -0.18556024],\n",
       "       [ 1.44710391, -0.2826661 ,  1.04191291, -0.18556024],\n",
       "       [ 1.44710391, -0.2826661 ,  1.04191291, -0.18556024],\n",
       "       [ 1.44710391, -0.2826661 ,  1.04191291, -0.18556024],\n",
       "       [ 1.44710391, -0.2826661 ,  1.04191291, -0.18556024],\n",
       "       [ 1.44710391, -0.2826661 ,  1.04191291, -0.18556024],\n",
       "       [ 1.44710391, -0.2826661 ,  1.04191291, -0.18556024],\n",
       "       [ 2.25426144,  1.30733072,  1.94536086,  0.23079376],\n",
       "       [ 2.25426144,  1.30733072,  1.94536086,  0.23079376],\n",
       "       [ 0.63994638,  2.89732754,  8.78575253, 13.34594497],\n",
       "       [ 2.25426144,  2.89732754,  3.49412879,  2.7289178 ],\n",
       "       [ 2.25426144,  2.89732754,  3.49412879,  2.7289178 ],\n",
       "       [ 2.57712445,  1.30733072,  2.59068083,  0.85532477],\n",
       "       [ 2.25426144, -0.2826661 ,  1.68723288, -0.18556024],\n",
       "       [ 2.25426144, -0.2826661 ,  1.68723288, -0.18556024],\n",
       "       [ 2.25426144, -0.2826661 ,  1.68723288, -0.18556024],\n",
       "       [ 2.25426144, -0.2826661 ,  1.68723288, -0.18556024],\n",
       "       [ 2.25426144, -0.2826661 ,  1.68723288, -0.18556024],\n",
       "       [ 2.25426144, -0.2826661 ,  1.68723288, -0.18556024],\n",
       "       [ 2.25426144, -0.2826661 ,  1.68723288, -0.18556024],\n",
       "       [ 2.25426144, -0.2826661 ,  1.68723288, -0.18556024],\n",
       "       [ 2.25426144, -0.2826661 ,  1.68723288, -0.18556024],\n",
       "       [ 2.25426144, -0.2826661 ,  1.68723288, -0.18556024],\n",
       "       [ 2.25426144, -0.2826661 ,  1.68723288, -0.18556024],\n",
       "       [ 2.25426144, -0.2826661 ,  1.68723288, -0.18556024],\n",
       "       [ 2.25426144, -0.2826661 ,  1.68723288, -0.18556024],\n",
       "       [ 2.25426144, -0.2826661 ,  1.68723288, -0.18556024],\n",
       "       [ 2.25426144, -0.2826661 ,  1.68723288, -0.18556024],\n",
       "       [ 2.57712445, -0.2826661 ,  1.94536086, -0.18556024],\n",
       "       [ 2.57712445, -0.2826661 ,  1.94536086, -0.18556024],\n",
       "       [ 2.57712445, -0.2826661 ,  1.94536086, -0.18556024],\n",
       "       [ 2.57712445, -0.2826661 ,  1.94536086, -0.18556024],\n",
       "       [ 2.57712445, -0.2826661 ,  1.94536086, -0.18556024],\n",
       "       [ 2.57712445, -0.2826661 ,  1.94536086, -0.18556024],\n",
       "       [ 2.57712445, -0.2826661 ,  1.94536086, -0.18556024],\n",
       "       [ 2.57712445, -0.2826661 ,  1.94536086, -0.18556024],\n",
       "       [ 2.57712445, -0.2826661 ,  1.94536086, -0.18556024],\n",
       "       [ 2.57712445, -0.2826661 ,  1.94536086, -0.18556024],\n",
       "       [ 2.57712445, -0.2826661 ,  1.94536086, -0.18556024],\n",
       "       [ 2.57712445, -0.2826661 ,  1.94536086, -0.18556024],\n",
       "       [ 2.57712445, -0.2826661 ,  1.94536086, -0.18556024],\n",
       "       [ 2.57712445, -0.2826661 ,  1.94536086, -0.18556024],\n",
       "       [ 2.57712445, -0.2826661 ,  1.94536086, -0.18556024],\n",
       "       [ 2.57712445, -0.2826661 ,  1.94536086, -0.18556024],\n",
       "       [ 2.57712445, -0.2826661 ,  1.94536086, -0.18556024],\n",
       "       [ 2.57712445, -0.2826661 ,  1.94536086, -0.18556024],\n",
       "       [ 2.57712445, -0.2826661 ,  1.94536086, -0.18556024],\n",
       "       [ 2.57712445, -0.2826661 ,  1.94536086, -0.18556024],\n",
       "       [ 2.57712445, -0.2826661 ,  1.94536086, -0.18556024],\n",
       "       [ 2.57712445, -0.2826661 ,  1.94536086, -0.18556024],\n",
       "       [ 2.57712445, -0.2826661 ,  1.94536086, -0.18556024],\n",
       "       [ 2.57712445, -0.2826661 ,  1.94536086, -0.18556024],\n",
       "       [ 2.57712445, -0.2826661 ,  1.94536086, -0.18556024],\n",
       "       [ 2.57712445, -0.2826661 ,  1.94536086, -0.18556024],\n",
       "       [ 2.57712445, -0.2826661 ,  1.94536086, -0.18556024],\n",
       "       [ 2.57712445, -0.2826661 ,  1.94536086, -0.18556024],\n",
       "       [ 2.57712445, -0.2826661 ,  1.94536086, -0.18556024],\n",
       "       [ 2.57712445, -0.2826661 ,  1.94536086, -0.18556024],\n",
       "       [ 2.57712445, -0.2826661 ,  1.94536086, -0.18556024],\n",
       "       [ 2.57712445, -0.2826661 ,  1.94536086, -0.18556024],\n",
       "       [ 2.57712445, -0.2826661 ,  1.94536086, -0.18556024],\n",
       "       [ 2.57712445, -0.2826661 ,  1.94536086, -0.18556024],\n",
       "       [ 2.57712445, -0.2826661 ,  1.94536086, -0.18556024],\n",
       "       [ 2.57712445, -0.2826661 ,  1.94536086, -0.18556024],\n",
       "       [ 2.57712445, -0.2826661 ,  1.94536086, -0.18556024],\n",
       "       [ 2.57712445, -0.2826661 ,  1.94536086, -0.18556024],\n",
       "       [ 2.57712445, -0.2826661 ,  1.94536086, -0.18556024],\n",
       "       [-0.49007416,  7.667318  ,  3.49412879,  6.26792686],\n",
       "       [-0.49007416,  7.667318  ,  3.49412879,  6.26792686],\n",
       "       [ 1.44710391,  1.30733072,  1.04191291, -0.18556024],\n",
       "       [ 1.44710391,  1.30733072,  1.04191291, -0.18556024],\n",
       "       [ 1.44710391,  2.89732754,  1.68723288,  0.85532477],\n",
       "       [ 1.1242409 ,  2.89732754,  3.49412879,  4.18615683],\n",
       "       [ 2.25426144,  2.89732754,  3.88132077,  3.35344881]])"
      ]
     },
     "execution_count": 65,
     "metadata": {},
     "output_type": "execute_result"
    }
   ],
   "source": [
    "test"
   ]
  },
  {
   "cell_type": "code",
   "execution_count": 66,
   "id": "19d5e44d",
   "metadata": {},
   "outputs": [
    {
     "data": {
      "text/plain": [
       "(576, 4)"
      ]
     },
     "execution_count": 66,
     "metadata": {},
     "output_type": "execute_result"
    }
   ],
   "source": [
    "train.shape"
   ]
  },
  {
   "cell_type": "code",
   "execution_count": 67,
   "id": "cf15c9eb",
   "metadata": {},
   "outputs": [
    {
     "data": {
      "text/plain": [
       "(234, 4)"
      ]
     },
     "execution_count": 67,
     "metadata": {},
     "output_type": "execute_result"
    }
   ],
   "source": [
    "test.shape"
   ]
  },
  {
   "cell_type": "code",
   "execution_count": 69,
   "id": "3f0bab00",
   "metadata": {},
   "outputs": [],
   "source": [
    "#Splitting into train and test set\n",
    "xtrain,xtest,ytrain,ytest=train_test_split(train,y,test_size=0.2,random_state=0)"
   ]
  },
  {
   "cell_type": "code",
   "execution_count": 75,
   "id": "e1f3bb8c",
   "metadata": {},
   "outputs": [
    {
     "data": {
      "text/html": [
       "<style>#sk-container-id-3 {color: black;background-color: white;}#sk-container-id-3 pre{padding: 0;}#sk-container-id-3 div.sk-toggleable {background-color: white;}#sk-container-id-3 label.sk-toggleable__label {cursor: pointer;display: block;width: 100%;margin-bottom: 0;padding: 0.3em;box-sizing: border-box;text-align: center;}#sk-container-id-3 label.sk-toggleable__label-arrow:before {content: \"▸\";float: left;margin-right: 0.25em;color: #696969;}#sk-container-id-3 label.sk-toggleable__label-arrow:hover:before {color: black;}#sk-container-id-3 div.sk-estimator:hover label.sk-toggleable__label-arrow:before {color: black;}#sk-container-id-3 div.sk-toggleable__content {max-height: 0;max-width: 0;overflow: hidden;text-align: left;background-color: #f0f8ff;}#sk-container-id-3 div.sk-toggleable__content pre {margin: 0.2em;color: black;border-radius: 0.25em;background-color: #f0f8ff;}#sk-container-id-3 input.sk-toggleable__control:checked~div.sk-toggleable__content {max-height: 200px;max-width: 100%;overflow: auto;}#sk-container-id-3 input.sk-toggleable__control:checked~label.sk-toggleable__label-arrow:before {content: \"▾\";}#sk-container-id-3 div.sk-estimator input.sk-toggleable__control:checked~label.sk-toggleable__label {background-color: #d4ebff;}#sk-container-id-3 div.sk-label input.sk-toggleable__control:checked~label.sk-toggleable__label {background-color: #d4ebff;}#sk-container-id-3 input.sk-hidden--visually {border: 0;clip: rect(1px 1px 1px 1px);clip: rect(1px, 1px, 1px, 1px);height: 1px;margin: -1px;overflow: hidden;padding: 0;position: absolute;width: 1px;}#sk-container-id-3 div.sk-estimator {font-family: monospace;background-color: #f0f8ff;border: 1px dotted black;border-radius: 0.25em;box-sizing: border-box;margin-bottom: 0.5em;}#sk-container-id-3 div.sk-estimator:hover {background-color: #d4ebff;}#sk-container-id-3 div.sk-parallel-item::after {content: \"\";width: 100%;border-bottom: 1px solid gray;flex-grow: 1;}#sk-container-id-3 div.sk-label:hover label.sk-toggleable__label {background-color: #d4ebff;}#sk-container-id-3 div.sk-serial::before {content: \"\";position: absolute;border-left: 1px solid gray;box-sizing: border-box;top: 0;bottom: 0;left: 50%;z-index: 0;}#sk-container-id-3 div.sk-serial {display: flex;flex-direction: column;align-items: center;background-color: white;padding-right: 0.2em;padding-left: 0.2em;position: relative;}#sk-container-id-3 div.sk-item {position: relative;z-index: 1;}#sk-container-id-3 div.sk-parallel {display: flex;align-items: stretch;justify-content: center;background-color: white;position: relative;}#sk-container-id-3 div.sk-item::before, #sk-container-id-3 div.sk-parallel-item::before {content: \"\";position: absolute;border-left: 1px solid gray;box-sizing: border-box;top: 0;bottom: 0;left: 50%;z-index: -1;}#sk-container-id-3 div.sk-parallel-item {display: flex;flex-direction: column;z-index: 1;position: relative;background-color: white;}#sk-container-id-3 div.sk-parallel-item:first-child::after {align-self: flex-end;width: 50%;}#sk-container-id-3 div.sk-parallel-item:last-child::after {align-self: flex-start;width: 50%;}#sk-container-id-3 div.sk-parallel-item:only-child::after {width: 0;}#sk-container-id-3 div.sk-dashed-wrapped {border: 1px dashed gray;margin: 0 0.4em 0.5em 0.4em;box-sizing: border-box;padding-bottom: 0.4em;background-color: white;}#sk-container-id-3 div.sk-label label {font-family: monospace;font-weight: bold;display: inline-block;line-height: 1.2em;}#sk-container-id-3 div.sk-label-container {text-align: center;}#sk-container-id-3 div.sk-container {/* jupyter's `normalize.less` sets `[hidden] { display: none; }` but bootstrap.min.css set `[hidden] { display: none !important; }` so we also need the `!important` here to be able to override the default hidden behavior on the sphinx rendered scikit-learn.org. See: https://github.com/scikit-learn/scikit-learn/issues/21755 */display: inline-block !important;position: relative;}#sk-container-id-3 div.sk-text-repr-fallback {display: none;}</style><div id=\"sk-container-id-3\" class=\"sk-top-container\"><div class=\"sk-text-repr-fallback\"><pre>LogisticRegression(random_state=7)</pre><b>In a Jupyter environment, please rerun this cell to show the HTML representation or trust the notebook. <br />On GitHub, the HTML representation is unable to render, please try loading this page with nbviewer.org.</b></div><div class=\"sk-container\" hidden><div class=\"sk-item\"><div class=\"sk-estimator sk-toggleable\"><input class=\"sk-toggleable__control sk-hidden--visually\" id=\"sk-estimator-id-3\" type=\"checkbox\" checked><label for=\"sk-estimator-id-3\" class=\"sk-toggleable__label sk-toggleable__label-arrow\">LogisticRegression</label><div class=\"sk-toggleable__content\"><pre>LogisticRegression(random_state=7)</pre></div></div></div></div></div>"
      ],
      "text/plain": [
       "LogisticRegression(random_state=7)"
      ]
     },
     "execution_count": 75,
     "metadata": {},
     "output_type": "execute_result"
    }
   ],
   "source": [
    "log_model=LogisticRegression(random_state=7)\n",
    "log_model.fit(xtrain,ytrain)"
   ]
  },
  {
   "cell_type": "code",
   "execution_count": 76,
   "id": "0b7edd74",
   "metadata": {},
   "outputs": [],
   "source": [
    "pred=log_model.predict(xtest)"
   ]
  },
  {
   "cell_type": "code",
   "execution_count": 77,
   "id": "4828beeb",
   "metadata": {},
   "outputs": [
    {
     "data": {
      "text/plain": [
       "0.7321428571428571"
      ]
     },
     "execution_count": 77,
     "metadata": {},
     "output_type": "execute_result"
    }
   ],
   "source": [
    "roc_auc_score(pred,ytest)"
   ]
  },
  {
   "cell_type": "code",
   "execution_count": 78,
   "id": "b9582275",
   "metadata": {},
   "outputs": [
    {
     "data": {
      "text/html": [
       "<style>#sk-container-id-4 {color: black;background-color: white;}#sk-container-id-4 pre{padding: 0;}#sk-container-id-4 div.sk-toggleable {background-color: white;}#sk-container-id-4 label.sk-toggleable__label {cursor: pointer;display: block;width: 100%;margin-bottom: 0;padding: 0.3em;box-sizing: border-box;text-align: center;}#sk-container-id-4 label.sk-toggleable__label-arrow:before {content: \"▸\";float: left;margin-right: 0.25em;color: #696969;}#sk-container-id-4 label.sk-toggleable__label-arrow:hover:before {color: black;}#sk-container-id-4 div.sk-estimator:hover label.sk-toggleable__label-arrow:before {color: black;}#sk-container-id-4 div.sk-toggleable__content {max-height: 0;max-width: 0;overflow: hidden;text-align: left;background-color: #f0f8ff;}#sk-container-id-4 div.sk-toggleable__content pre {margin: 0.2em;color: black;border-radius: 0.25em;background-color: #f0f8ff;}#sk-container-id-4 input.sk-toggleable__control:checked~div.sk-toggleable__content {max-height: 200px;max-width: 100%;overflow: auto;}#sk-container-id-4 input.sk-toggleable__control:checked~label.sk-toggleable__label-arrow:before {content: \"▾\";}#sk-container-id-4 div.sk-estimator input.sk-toggleable__control:checked~label.sk-toggleable__label {background-color: #d4ebff;}#sk-container-id-4 div.sk-label input.sk-toggleable__control:checked~label.sk-toggleable__label {background-color: #d4ebff;}#sk-container-id-4 input.sk-hidden--visually {border: 0;clip: rect(1px 1px 1px 1px);clip: rect(1px, 1px, 1px, 1px);height: 1px;margin: -1px;overflow: hidden;padding: 0;position: absolute;width: 1px;}#sk-container-id-4 div.sk-estimator {font-family: monospace;background-color: #f0f8ff;border: 1px dotted black;border-radius: 0.25em;box-sizing: border-box;margin-bottom: 0.5em;}#sk-container-id-4 div.sk-estimator:hover {background-color: #d4ebff;}#sk-container-id-4 div.sk-parallel-item::after {content: \"\";width: 100%;border-bottom: 1px solid gray;flex-grow: 1;}#sk-container-id-4 div.sk-label:hover label.sk-toggleable__label {background-color: #d4ebff;}#sk-container-id-4 div.sk-serial::before {content: \"\";position: absolute;border-left: 1px solid gray;box-sizing: border-box;top: 0;bottom: 0;left: 50%;z-index: 0;}#sk-container-id-4 div.sk-serial {display: flex;flex-direction: column;align-items: center;background-color: white;padding-right: 0.2em;padding-left: 0.2em;position: relative;}#sk-container-id-4 div.sk-item {position: relative;z-index: 1;}#sk-container-id-4 div.sk-parallel {display: flex;align-items: stretch;justify-content: center;background-color: white;position: relative;}#sk-container-id-4 div.sk-item::before, #sk-container-id-4 div.sk-parallel-item::before {content: \"\";position: absolute;border-left: 1px solid gray;box-sizing: border-box;top: 0;bottom: 0;left: 50%;z-index: -1;}#sk-container-id-4 div.sk-parallel-item {display: flex;flex-direction: column;z-index: 1;position: relative;background-color: white;}#sk-container-id-4 div.sk-parallel-item:first-child::after {align-self: flex-end;width: 50%;}#sk-container-id-4 div.sk-parallel-item:last-child::after {align-self: flex-start;width: 50%;}#sk-container-id-4 div.sk-parallel-item:only-child::after {width: 0;}#sk-container-id-4 div.sk-dashed-wrapped {border: 1px dashed gray;margin: 0 0.4em 0.5em 0.4em;box-sizing: border-box;padding-bottom: 0.4em;background-color: white;}#sk-container-id-4 div.sk-label label {font-family: monospace;font-weight: bold;display: inline-block;line-height: 1.2em;}#sk-container-id-4 div.sk-label-container {text-align: center;}#sk-container-id-4 div.sk-container {/* jupyter's `normalize.less` sets `[hidden] { display: none; }` but bootstrap.min.css set `[hidden] { display: none !important; }` so we also need the `!important` here to be able to override the default hidden behavior on the sphinx rendered scikit-learn.org. See: https://github.com/scikit-learn/scikit-learn/issues/21755 */display: inline-block !important;position: relative;}#sk-container-id-4 div.sk-text-repr-fallback {display: none;}</style><div id=\"sk-container-id-4\" class=\"sk-top-container\"><div class=\"sk-text-repr-fallback\"><pre>SVC(probability=True)</pre><b>In a Jupyter environment, please rerun this cell to show the HTML representation or trust the notebook. <br />On GitHub, the HTML representation is unable to render, please try loading this page with nbviewer.org.</b></div><div class=\"sk-container\" hidden><div class=\"sk-item\"><div class=\"sk-estimator sk-toggleable\"><input class=\"sk-toggleable__control sk-hidden--visually\" id=\"sk-estimator-id-4\" type=\"checkbox\" checked><label for=\"sk-estimator-id-4\" class=\"sk-toggleable__label sk-toggleable__label-arrow\">SVC</label><div class=\"sk-toggleable__content\"><pre>SVC(probability=True)</pre></div></div></div></div></div>"
      ],
      "text/plain": [
       "SVC(probability=True)"
      ]
     },
     "execution_count": 78,
     "metadata": {},
     "output_type": "execute_result"
    }
   ],
   "source": [
    "svm_model=SVC(probability=True)\n",
    "svm_model.fit(train,y)"
   ]
  },
  {
   "cell_type": "code",
   "execution_count": 79,
   "id": "e01684d9",
   "metadata": {},
   "outputs": [
    {
     "data": {
      "text/plain": [
       "array([[80, 32],\n",
       "       [ 1,  3]], dtype=int64)"
      ]
     },
     "execution_count": 79,
     "metadata": {},
     "output_type": "execute_result"
    }
   ],
   "source": [
    "confusion_matrix(pred,ytest)"
   ]
  },
  {
   "cell_type": "code",
   "execution_count": 80,
   "id": "2bd9f7c2",
   "metadata": {},
   "outputs": [
    {
     "data": {
      "text/plain": [
       "0.7321428571428571"
      ]
     },
     "execution_count": 80,
     "metadata": {},
     "output_type": "execute_result"
    }
   ],
   "source": [
    "roc_auc_score(pred,ytest)"
   ]
  },
  {
   "cell_type": "code",
   "execution_count": 83,
   "id": "6541a4ee",
   "metadata": {},
   "outputs": [
    {
     "data": {
      "text/html": [
       "<style>#sk-container-id-6 {color: black;background-color: white;}#sk-container-id-6 pre{padding: 0;}#sk-container-id-6 div.sk-toggleable {background-color: white;}#sk-container-id-6 label.sk-toggleable__label {cursor: pointer;display: block;width: 100%;margin-bottom: 0;padding: 0.3em;box-sizing: border-box;text-align: center;}#sk-container-id-6 label.sk-toggleable__label-arrow:before {content: \"▸\";float: left;margin-right: 0.25em;color: #696969;}#sk-container-id-6 label.sk-toggleable__label-arrow:hover:before {color: black;}#sk-container-id-6 div.sk-estimator:hover label.sk-toggleable__label-arrow:before {color: black;}#sk-container-id-6 div.sk-toggleable__content {max-height: 0;max-width: 0;overflow: hidden;text-align: left;background-color: #f0f8ff;}#sk-container-id-6 div.sk-toggleable__content pre {margin: 0.2em;color: black;border-radius: 0.25em;background-color: #f0f8ff;}#sk-container-id-6 input.sk-toggleable__control:checked~div.sk-toggleable__content {max-height: 200px;max-width: 100%;overflow: auto;}#sk-container-id-6 input.sk-toggleable__control:checked~label.sk-toggleable__label-arrow:before {content: \"▾\";}#sk-container-id-6 div.sk-estimator input.sk-toggleable__control:checked~label.sk-toggleable__label {background-color: #d4ebff;}#sk-container-id-6 div.sk-label input.sk-toggleable__control:checked~label.sk-toggleable__label {background-color: #d4ebff;}#sk-container-id-6 input.sk-hidden--visually {border: 0;clip: rect(1px 1px 1px 1px);clip: rect(1px, 1px, 1px, 1px);height: 1px;margin: -1px;overflow: hidden;padding: 0;position: absolute;width: 1px;}#sk-container-id-6 div.sk-estimator {font-family: monospace;background-color: #f0f8ff;border: 1px dotted black;border-radius: 0.25em;box-sizing: border-box;margin-bottom: 0.5em;}#sk-container-id-6 div.sk-estimator:hover {background-color: #d4ebff;}#sk-container-id-6 div.sk-parallel-item::after {content: \"\";width: 100%;border-bottom: 1px solid gray;flex-grow: 1;}#sk-container-id-6 div.sk-label:hover label.sk-toggleable__label {background-color: #d4ebff;}#sk-container-id-6 div.sk-serial::before {content: \"\";position: absolute;border-left: 1px solid gray;box-sizing: border-box;top: 0;bottom: 0;left: 50%;z-index: 0;}#sk-container-id-6 div.sk-serial {display: flex;flex-direction: column;align-items: center;background-color: white;padding-right: 0.2em;padding-left: 0.2em;position: relative;}#sk-container-id-6 div.sk-item {position: relative;z-index: 1;}#sk-container-id-6 div.sk-parallel {display: flex;align-items: stretch;justify-content: center;background-color: white;position: relative;}#sk-container-id-6 div.sk-item::before, #sk-container-id-6 div.sk-parallel-item::before {content: \"\";position: absolute;border-left: 1px solid gray;box-sizing: border-box;top: 0;bottom: 0;left: 50%;z-index: -1;}#sk-container-id-6 div.sk-parallel-item {display: flex;flex-direction: column;z-index: 1;position: relative;background-color: white;}#sk-container-id-6 div.sk-parallel-item:first-child::after {align-self: flex-end;width: 50%;}#sk-container-id-6 div.sk-parallel-item:last-child::after {align-self: flex-start;width: 50%;}#sk-container-id-6 div.sk-parallel-item:only-child::after {width: 0;}#sk-container-id-6 div.sk-dashed-wrapped {border: 1px dashed gray;margin: 0 0.4em 0.5em 0.4em;box-sizing: border-box;padding-bottom: 0.4em;background-color: white;}#sk-container-id-6 div.sk-label label {font-family: monospace;font-weight: bold;display: inline-block;line-height: 1.2em;}#sk-container-id-6 div.sk-label-container {text-align: center;}#sk-container-id-6 div.sk-container {/* jupyter's `normalize.less` sets `[hidden] { display: none; }` but bootstrap.min.css set `[hidden] { display: none !important; }` so we also need the `!important` here to be able to override the default hidden behavior on the sphinx rendered scikit-learn.org. See: https://github.com/scikit-learn/scikit-learn/issues/21755 */display: inline-block !important;position: relative;}#sk-container-id-6 div.sk-text-repr-fallback {display: none;}</style><div id=\"sk-container-id-6\" class=\"sk-top-container\"><div class=\"sk-text-repr-fallback\"><pre>RandomForestClassifier()</pre><b>In a Jupyter environment, please rerun this cell to show the HTML representation or trust the notebook. <br />On GitHub, the HTML representation is unable to render, please try loading this page with nbviewer.org.</b></div><div class=\"sk-container\" hidden><div class=\"sk-item\"><div class=\"sk-estimator sk-toggleable\"><input class=\"sk-toggleable__control sk-hidden--visually\" id=\"sk-estimator-id-6\" type=\"checkbox\" checked><label for=\"sk-estimator-id-6\" class=\"sk-toggleable__label sk-toggleable__label-arrow\">RandomForestClassifier</label><div class=\"sk-toggleable__content\"><pre>RandomForestClassifier()</pre></div></div></div></div></div>"
      ],
      "text/plain": [
       "RandomForestClassifier()"
      ]
     },
     "execution_count": 83,
     "metadata": {},
     "output_type": "execute_result"
    }
   ],
   "source": [
    "rfc_model=RandomForestClassifier()\n",
    "rfc_model.fit(xtrain,ytrain)"
   ]
  },
  {
   "cell_type": "code",
   "execution_count": 85,
   "id": "af18e88e",
   "metadata": {},
   "outputs": [],
   "source": [
    "pred=rfc_model.predict(xtest)"
   ]
  },
  {
   "cell_type": "code",
   "execution_count": 86,
   "id": "6843e381",
   "metadata": {},
   "outputs": [
    {
     "data": {
      "text/plain": [
       "array([[79, 25],\n",
       "       [ 2, 10]], dtype=int64)"
      ]
     },
     "execution_count": 86,
     "metadata": {},
     "output_type": "execute_result"
    }
   ],
   "source": [
    "confusion_matrix(pred,ytest)"
   ]
  },
  {
   "cell_type": "code",
   "execution_count": 87,
   "id": "effc8ddf",
   "metadata": {},
   "outputs": [
    {
     "data": {
      "text/plain": [
       "0.796474358974359"
      ]
     },
     "execution_count": 87,
     "metadata": {},
     "output_type": "execute_result"
    }
   ],
   "source": [
    "roc_auc_score(pred,ytest)"
   ]
  },
  {
   "cell_type": "code",
   "execution_count": 88,
   "id": "4f38a7b6",
   "metadata": {},
   "outputs": [],
   "source": [
    "dct_model=DecisionTreeClassifier(max_leaf_nodes=4,max_features=3,max_depth=15)"
   ]
  },
  {
   "cell_type": "code",
   "execution_count": 90,
   "id": "f1b368ba",
   "metadata": {},
   "outputs": [
    {
     "data": {
      "text/html": [
       "<style>#sk-container-id-7 {color: black;background-color: white;}#sk-container-id-7 pre{padding: 0;}#sk-container-id-7 div.sk-toggleable {background-color: white;}#sk-container-id-7 label.sk-toggleable__label {cursor: pointer;display: block;width: 100%;margin-bottom: 0;padding: 0.3em;box-sizing: border-box;text-align: center;}#sk-container-id-7 label.sk-toggleable__label-arrow:before {content: \"▸\";float: left;margin-right: 0.25em;color: #696969;}#sk-container-id-7 label.sk-toggleable__label-arrow:hover:before {color: black;}#sk-container-id-7 div.sk-estimator:hover label.sk-toggleable__label-arrow:before {color: black;}#sk-container-id-7 div.sk-toggleable__content {max-height: 0;max-width: 0;overflow: hidden;text-align: left;background-color: #f0f8ff;}#sk-container-id-7 div.sk-toggleable__content pre {margin: 0.2em;color: black;border-radius: 0.25em;background-color: #f0f8ff;}#sk-container-id-7 input.sk-toggleable__control:checked~div.sk-toggleable__content {max-height: 200px;max-width: 100%;overflow: auto;}#sk-container-id-7 input.sk-toggleable__control:checked~label.sk-toggleable__label-arrow:before {content: \"▾\";}#sk-container-id-7 div.sk-estimator input.sk-toggleable__control:checked~label.sk-toggleable__label {background-color: #d4ebff;}#sk-container-id-7 div.sk-label input.sk-toggleable__control:checked~label.sk-toggleable__label {background-color: #d4ebff;}#sk-container-id-7 input.sk-hidden--visually {border: 0;clip: rect(1px 1px 1px 1px);clip: rect(1px, 1px, 1px, 1px);height: 1px;margin: -1px;overflow: hidden;padding: 0;position: absolute;width: 1px;}#sk-container-id-7 div.sk-estimator {font-family: monospace;background-color: #f0f8ff;border: 1px dotted black;border-radius: 0.25em;box-sizing: border-box;margin-bottom: 0.5em;}#sk-container-id-7 div.sk-estimator:hover {background-color: #d4ebff;}#sk-container-id-7 div.sk-parallel-item::after {content: \"\";width: 100%;border-bottom: 1px solid gray;flex-grow: 1;}#sk-container-id-7 div.sk-label:hover label.sk-toggleable__label {background-color: #d4ebff;}#sk-container-id-7 div.sk-serial::before {content: \"\";position: absolute;border-left: 1px solid gray;box-sizing: border-box;top: 0;bottom: 0;left: 50%;z-index: 0;}#sk-container-id-7 div.sk-serial {display: flex;flex-direction: column;align-items: center;background-color: white;padding-right: 0.2em;padding-left: 0.2em;position: relative;}#sk-container-id-7 div.sk-item {position: relative;z-index: 1;}#sk-container-id-7 div.sk-parallel {display: flex;align-items: stretch;justify-content: center;background-color: white;position: relative;}#sk-container-id-7 div.sk-item::before, #sk-container-id-7 div.sk-parallel-item::before {content: \"\";position: absolute;border-left: 1px solid gray;box-sizing: border-box;top: 0;bottom: 0;left: 50%;z-index: -1;}#sk-container-id-7 div.sk-parallel-item {display: flex;flex-direction: column;z-index: 1;position: relative;background-color: white;}#sk-container-id-7 div.sk-parallel-item:first-child::after {align-self: flex-end;width: 50%;}#sk-container-id-7 div.sk-parallel-item:last-child::after {align-self: flex-start;width: 50%;}#sk-container-id-7 div.sk-parallel-item:only-child::after {width: 0;}#sk-container-id-7 div.sk-dashed-wrapped {border: 1px dashed gray;margin: 0 0.4em 0.5em 0.4em;box-sizing: border-box;padding-bottom: 0.4em;background-color: white;}#sk-container-id-7 div.sk-label label {font-family: monospace;font-weight: bold;display: inline-block;line-height: 1.2em;}#sk-container-id-7 div.sk-label-container {text-align: center;}#sk-container-id-7 div.sk-container {/* jupyter's `normalize.less` sets `[hidden] { display: none; }` but bootstrap.min.css set `[hidden] { display: none !important; }` so we also need the `!important` here to be able to override the default hidden behavior on the sphinx rendered scikit-learn.org. See: https://github.com/scikit-learn/scikit-learn/issues/21755 */display: inline-block !important;position: relative;}#sk-container-id-7 div.sk-text-repr-fallback {display: none;}</style><div id=\"sk-container-id-7\" class=\"sk-top-container\"><div class=\"sk-text-repr-fallback\"><pre>DecisionTreeClassifier(max_depth=15, max_features=3, max_leaf_nodes=4)</pre><b>In a Jupyter environment, please rerun this cell to show the HTML representation or trust the notebook. <br />On GitHub, the HTML representation is unable to render, please try loading this page with nbviewer.org.</b></div><div class=\"sk-container\" hidden><div class=\"sk-item\"><div class=\"sk-estimator sk-toggleable\"><input class=\"sk-toggleable__control sk-hidden--visually\" id=\"sk-estimator-id-7\" type=\"checkbox\" checked><label for=\"sk-estimator-id-7\" class=\"sk-toggleable__label sk-toggleable__label-arrow\">DecisionTreeClassifier</label><div class=\"sk-toggleable__content\"><pre>DecisionTreeClassifier(max_depth=15, max_features=3, max_leaf_nodes=4)</pre></div></div></div></div></div>"
      ],
      "text/plain": [
       "DecisionTreeClassifier(max_depth=15, max_features=3, max_leaf_nodes=4)"
      ]
     },
     "execution_count": 90,
     "metadata": {},
     "output_type": "execute_result"
    }
   ],
   "source": [
    "dct_model.fit(xtrain,ytrain)"
   ]
  },
  {
   "cell_type": "code",
   "execution_count": 91,
   "id": "71835ac6",
   "metadata": {},
   "outputs": [],
   "source": [
    "pred=model.predict(xtest)"
   ]
  },
  {
   "cell_type": "code",
   "execution_count": 92,
   "id": "29986287",
   "metadata": {},
   "outputs": [
    {
     "data": {
      "text/plain": [
       "array([[80, 32],\n",
       "       [ 1,  3]], dtype=int64)"
      ]
     },
     "execution_count": 92,
     "metadata": {},
     "output_type": "execute_result"
    }
   ],
   "source": [
    "confusion_matrix(pred,ytest)"
   ]
  },
  {
   "cell_type": "code",
   "execution_count": 93,
   "id": "5a877733",
   "metadata": {},
   "outputs": [
    {
     "data": {
      "text/plain": [
       "0.7155172413793104"
      ]
     },
     "execution_count": 93,
     "metadata": {},
     "output_type": "execute_result"
    }
   ],
   "source": [
    "accuracy_score(pred,ytest)"
   ]
  },
  {
   "cell_type": "code",
   "execution_count": 94,
   "id": "4d475e00",
   "metadata": {},
   "outputs": [
    {
     "data": {
      "text/plain": [
       "<function sklearn.metrics._ranking.roc_auc_score(y_true, y_score, *, average='macro', sample_weight=None, max_fpr=None, multi_class='raise', labels=None)>"
      ]
     },
     "execution_count": 94,
     "metadata": {},
     "output_type": "execute_result"
    }
   ],
   "source": [
    "roc_auc_score"
   ]
  },
  {
   "cell_type": "code",
   "execution_count": 96,
   "id": "0b27175e",
   "metadata": {},
   "outputs": [
    {
     "data": {
      "text/html": [
       "<style>#sk-container-id-8 {color: black;background-color: white;}#sk-container-id-8 pre{padding: 0;}#sk-container-id-8 div.sk-toggleable {background-color: white;}#sk-container-id-8 label.sk-toggleable__label {cursor: pointer;display: block;width: 100%;margin-bottom: 0;padding: 0.3em;box-sizing: border-box;text-align: center;}#sk-container-id-8 label.sk-toggleable__label-arrow:before {content: \"▸\";float: left;margin-right: 0.25em;color: #696969;}#sk-container-id-8 label.sk-toggleable__label-arrow:hover:before {color: black;}#sk-container-id-8 div.sk-estimator:hover label.sk-toggleable__label-arrow:before {color: black;}#sk-container-id-8 div.sk-toggleable__content {max-height: 0;max-width: 0;overflow: hidden;text-align: left;background-color: #f0f8ff;}#sk-container-id-8 div.sk-toggleable__content pre {margin: 0.2em;color: black;border-radius: 0.25em;background-color: #f0f8ff;}#sk-container-id-8 input.sk-toggleable__control:checked~div.sk-toggleable__content {max-height: 200px;max-width: 100%;overflow: auto;}#sk-container-id-8 input.sk-toggleable__control:checked~label.sk-toggleable__label-arrow:before {content: \"▾\";}#sk-container-id-8 div.sk-estimator input.sk-toggleable__control:checked~label.sk-toggleable__label {background-color: #d4ebff;}#sk-container-id-8 div.sk-label input.sk-toggleable__control:checked~label.sk-toggleable__label {background-color: #d4ebff;}#sk-container-id-8 input.sk-hidden--visually {border: 0;clip: rect(1px 1px 1px 1px);clip: rect(1px, 1px, 1px, 1px);height: 1px;margin: -1px;overflow: hidden;padding: 0;position: absolute;width: 1px;}#sk-container-id-8 div.sk-estimator {font-family: monospace;background-color: #f0f8ff;border: 1px dotted black;border-radius: 0.25em;box-sizing: border-box;margin-bottom: 0.5em;}#sk-container-id-8 div.sk-estimator:hover {background-color: #d4ebff;}#sk-container-id-8 div.sk-parallel-item::after {content: \"\";width: 100%;border-bottom: 1px solid gray;flex-grow: 1;}#sk-container-id-8 div.sk-label:hover label.sk-toggleable__label {background-color: #d4ebff;}#sk-container-id-8 div.sk-serial::before {content: \"\";position: absolute;border-left: 1px solid gray;box-sizing: border-box;top: 0;bottom: 0;left: 50%;z-index: 0;}#sk-container-id-8 div.sk-serial {display: flex;flex-direction: column;align-items: center;background-color: white;padding-right: 0.2em;padding-left: 0.2em;position: relative;}#sk-container-id-8 div.sk-item {position: relative;z-index: 1;}#sk-container-id-8 div.sk-parallel {display: flex;align-items: stretch;justify-content: center;background-color: white;position: relative;}#sk-container-id-8 div.sk-item::before, #sk-container-id-8 div.sk-parallel-item::before {content: \"\";position: absolute;border-left: 1px solid gray;box-sizing: border-box;top: 0;bottom: 0;left: 50%;z-index: -1;}#sk-container-id-8 div.sk-parallel-item {display: flex;flex-direction: column;z-index: 1;position: relative;background-color: white;}#sk-container-id-8 div.sk-parallel-item:first-child::after {align-self: flex-end;width: 50%;}#sk-container-id-8 div.sk-parallel-item:last-child::after {align-self: flex-start;width: 50%;}#sk-container-id-8 div.sk-parallel-item:only-child::after {width: 0;}#sk-container-id-8 div.sk-dashed-wrapped {border: 1px dashed gray;margin: 0 0.4em 0.5em 0.4em;box-sizing: border-box;padding-bottom: 0.4em;background-color: white;}#sk-container-id-8 div.sk-label label {font-family: monospace;font-weight: bold;display: inline-block;line-height: 1.2em;}#sk-container-id-8 div.sk-label-container {text-align: center;}#sk-container-id-8 div.sk-container {/* jupyter's `normalize.less` sets `[hidden] { display: none; }` but bootstrap.min.css set `[hidden] { display: none !important; }` so we also need the `!important` here to be able to override the default hidden behavior on the sphinx rendered scikit-learn.org. See: https://github.com/scikit-learn/scikit-learn/issues/21755 */display: inline-block !important;position: relative;}#sk-container-id-8 div.sk-text-repr-fallback {display: none;}</style><div id=\"sk-container-id-8\" class=\"sk-top-container\"><div class=\"sk-text-repr-fallback\"><pre>MLPClassifier(alpha=1e-05, hidden_layer_sizes=(25,), random_state=1,\n",
       "              solver=&#x27;lbfgs&#x27;)</pre><b>In a Jupyter environment, please rerun this cell to show the HTML representation or trust the notebook. <br />On GitHub, the HTML representation is unable to render, please try loading this page with nbviewer.org.</b></div><div class=\"sk-container\" hidden><div class=\"sk-item\"><div class=\"sk-estimator sk-toggleable\"><input class=\"sk-toggleable__control sk-hidden--visually\" id=\"sk-estimator-id-8\" type=\"checkbox\" checked><label for=\"sk-estimator-id-8\" class=\"sk-toggleable__label sk-toggleable__label-arrow\">MLPClassifier</label><div class=\"sk-toggleable__content\"><pre>MLPClassifier(alpha=1e-05, hidden_layer_sizes=(25,), random_state=1,\n",
       "              solver=&#x27;lbfgs&#x27;)</pre></div></div></div></div></div>"
      ],
      "text/plain": [
       "MLPClassifier(alpha=1e-05, hidden_layer_sizes=(25,), random_state=1,\n",
       "              solver='lbfgs')"
      ]
     },
     "execution_count": 96,
     "metadata": {},
     "output_type": "execute_result"
    }
   ],
   "source": [
    "clf_neural = MLPClassifier(solver='lbfgs', alpha=1e-5, hidden_layer_sizes=(25,),random_state=1)\n",
    "clf_neural.fit(train, y)"
   ]
  },
  {
   "cell_type": "code",
   "execution_count": 97,
   "id": "0e366384",
   "metadata": {},
   "outputs": [
    {
     "name": "stdout",
     "output_type": "stream",
     "text": [
      "Predicting...\n",
      "In Test Data\n"
     ]
    }
   ],
   "source": [
    "print('Predicting...\\nIn Test Data')\n",
    "predicted = clf_neural.predict(xtest)"
   ]
  },
  {
   "cell_type": "code",
   "execution_count": 98,
   "id": "13096c51",
   "metadata": {},
   "outputs": [
    {
     "data": {
      "text/plain": [
       "array([[80, 24],\n",
       "       [ 1, 11]], dtype=int64)"
      ]
     },
     "execution_count": 98,
     "metadata": {},
     "output_type": "execute_result"
    }
   ],
   "source": [
    "confusion_matrix(predicted,ytest)"
   ]
  },
  {
   "cell_type": "code",
   "execution_count": 102,
   "id": "2c5d3b83",
   "metadata": {},
   "outputs": [
    {
     "data": {
      "text/plain": [
       "0.7321428571428571"
      ]
     },
     "execution_count": 102,
     "metadata": {},
     "output_type": "execute_result"
    }
   ],
   "source": [
    "roc_auc_score(pred,ytest)"
   ]
  },
  {
   "cell_type": "code",
   "execution_count": 103,
   "id": "eeca7467",
   "metadata": {},
   "outputs": [],
   "source": [
    "x=accuracy_score(predicted,ytest)"
   ]
  },
  {
   "cell_type": "code",
   "execution_count": null,
   "id": "37bfa841",
   "metadata": {},
   "outputs": [],
   "source": []
  },
  {
   "cell_type": "code",
   "execution_count": null,
   "id": "a1f837d9",
   "metadata": {},
   "outputs": [],
   "source": []
  }
 ],
 "metadata": {
  "kernelspec": {
   "display_name": "Python 3 (ipykernel)",
   "language": "python",
   "name": "python3"
  },
  "language_info": {
   "codemirror_mode": {
    "name": "ipython",
    "version": 3
   },
   "file_extension": ".py",
   "mimetype": "text/x-python",
   "name": "python",
   "nbconvert_exporter": "python",
   "pygments_lexer": "ipython3",
   "version": "3.10.6"
  }
 },
 "nbformat": 4,
 "nbformat_minor": 5
}
