{
 "cells": [
  {
   "cell_type": "code",
   "execution_count": 34,
   "id": "8717f754-996f-42f0-a944-4b784989039b",
   "metadata": {},
   "outputs": [],
   "source": [
    "from textblob import TextBlob"
   ]
  },
  {
   "cell_type": "code",
   "execution_count": 45,
   "id": "90530df6-1265-43cb-bd31-d7f85b349bdb",
   "metadata": {},
   "outputs": [
    {
     "name": "stdout",
     "output_type": "stream",
     "text": [
      "[TextBlob(\"Data Scence\")]\n",
      "[TextBlob(\"Data Scence\"), TextBlob(\"Mahine Learnin\")]\n",
      "Wrong Words : ['Data Scence', 'Mahine Learnin']\n",
      "Corrected Words are :\n",
      "Data Science Machine Learning "
     ]
    }
   ],
   "source": [
    "words = [\"Data Scence\", \"Mahine Learnin\"]\n",
    "corrected_words = []\n",
    "\n",
    "for i in words:\n",
    "    corrected_words.append(TextBlob(i))\n",
    "    print(corrected_words)\n",
    "\n",
    "    \n",
    "print(\"Wrong Words :\",words)\n",
    "print(\"Corrected Words are :\")\n",
    "for i in corrected_words:\n",
    "    print(i.correct(),end=' ')"
   ]
  },
  {
   "cell_type": "code",
   "execution_count": null,
   "id": "d36c5d7a-339a-48d2-af41-d848820487f0",
   "metadata": {},
   "outputs": [],
   "source": []
  },
  {
   "cell_type": "code",
   "execution_count": null,
   "id": "52c377a9-09b8-421d-b3bb-f45f8b9b2924",
   "metadata": {},
   "outputs": [],
   "source": []
  },
  {
   "cell_type": "code",
   "execution_count": null,
   "id": "2258bcc1-4564-4b64-9752-24dd1544a05d",
   "metadata": {},
   "outputs": [],
   "source": []
  }
 ],
 "metadata": {
  "kernelspec": {
   "display_name": "Python 3 (ipykernel)",
   "language": "python",
   "name": "python3"
  },
  "language_info": {
   "codemirror_mode": {
    "name": "ipython",
    "version": 3
   },
   "file_extension": ".py",
   "mimetype": "text/x-python",
   "name": "python",
   "nbconvert_exporter": "python",
   "pygments_lexer": "ipython3",
   "version": "3.10.0"
  }
 },
 "nbformat": 4,
 "nbformat_minor": 5
}
