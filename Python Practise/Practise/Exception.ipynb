{
 "cells": [
  {
   "cell_type": "code",
   "execution_count": 11,
   "id": "977f26af",
   "metadata": {},
   "outputs": [],
   "source": [
    "def add(x,y):\n",
    "    z=0\n",
    "    try:\n",
    "        z=x+y\n",
    "    except:\n",
    "        print(\"Please Enter the value Correctly\")\n",
    "    return z"
   ]
  },
  {
   "cell_type": "code",
   "execution_count": 12,
   "id": "1de96401",
   "metadata": {},
   "outputs": [
    {
     "name": "stdout",
     "output_type": "stream",
     "text": [
      "Please Enter the value Correctly\n"
     ]
    },
    {
     "data": {
      "text/plain": [
       "0"
      ]
     },
     "execution_count": 12,
     "metadata": {},
     "output_type": "execute_result"
    }
   ],
   "source": [
    "add(5,\"a\")"
   ]
  },
  {
   "cell_type": "code",
   "execution_count": 13,
   "id": "4d354dab",
   "metadata": {},
   "outputs": [],
   "source": [
    "def add(x,y):\n",
    "    try:\n",
    "        return x/y\n",
    "    except ZeroDivisionError as zde:\n",
    "        print(zde)"
   ]
  },
  {
   "cell_type": "code",
   "execution_count": 15,
   "id": "ee8838a9",
   "metadata": {},
   "outputs": [
    {
     "name": "stdout",
     "output_type": "stream",
     "text": [
      "division by zero\n"
     ]
    }
   ],
   "source": [
    "add(5,0)"
   ]
  },
  {
   "cell_type": "code",
   "execution_count": 17,
   "id": "39b7142f",
   "metadata": {},
   "outputs": [],
   "source": [
    "def add(x,y):\n",
    "    try:\n",
    "        return x/y\n",
    "    except ZeroDivisionError as zde:\n",
    "        print(zde)\n",
    "    except Exception as e:\n",
    "        print(e)"
   ]
  },
  {
   "cell_type": "code",
   "execution_count": 20,
   "id": "7d82a1c4",
   "metadata": {},
   "outputs": [
    {
     "name": "stdout",
     "output_type": "stream",
     "text": [
      "division by zero\n"
     ]
    }
   ],
   "source": [
    "add(5,0)"
   ]
  },
  {
   "cell_type": "code",
   "execution_count": 35,
   "id": "5b11961b",
   "metadata": {},
   "outputs": [],
   "source": [
    "class myIssues(Exception):\n",
    "    def __init__(self,message):\n",
    "        self.msg=message\n",
    "    def print_Myissue(self):\n",
    "        print(\"Thisis my exception\",self.msg)\n",
    "        \n",
    "def myissue():\n",
    "    try:\n",
    "        raise myIssues('this is my own commnet')\n",
    "    except myIssues as e:\n",
    "        e.print_Myissue()"
   ]
  },
  {
   "cell_type": "code",
   "execution_count": 36,
   "id": "13647a37",
   "metadata": {},
   "outputs": [
    {
     "name": "stdout",
     "output_type": "stream",
     "text": [
      "Thisis my exception this is my own commnet\n"
     ]
    }
   ],
   "source": [
    "myissue()"
   ]
  },
  {
   "cell_type": "code",
   "execution_count": 37,
   "id": "dea4fde8",
   "metadata": {},
   "outputs": [],
   "source": [
    "def add(x,y):\n",
    "    try:\n",
    "        return x/y\n",
    "    except ZeroDivisionError as zde:\n",
    "        print(zde)\n",
    "    finally:\n",
    "        print(\"Some issue happend\")"
   ]
  },
  {
   "cell_type": "code",
   "execution_count": 39,
   "id": "afe39f85",
   "metadata": {},
   "outputs": [
    {
     "name": "stdout",
     "output_type": "stream",
     "text": [
      "division by zero\n",
      "Some issue happend\n"
     ]
    }
   ],
   "source": [
    "add(5,0)"
   ]
  },
  {
   "cell_type": "code",
   "execution_count": null,
   "id": "61f764fe",
   "metadata": {},
   "outputs": [],
   "source": []
  }
 ],
 "metadata": {
  "kernelspec": {
   "display_name": "Python 3 (ipykernel)",
   "language": "python",
   "name": "python3"
  },
  "language_info": {
   "codemirror_mode": {
    "name": "ipython",
    "version": 3
   },
   "file_extension": ".py",
   "mimetype": "text/x-python",
   "name": "python",
   "nbconvert_exporter": "python",
   "pygments_lexer": "ipython3",
   "version": "3.10.6"
  }
 },
 "nbformat": 4,
 "nbformat_minor": 5
}
